{
 "cells": [
  {
   "cell_type": "markdown",
   "metadata": {},
   "source": [
    "# Pedri Detection with YOLOv8\n",
    "\n",
    "This notebook detects FC Barcelona's Pedri in match footage using YOLOv8, an upgrade from YOLOv5 for better accuracy and speed. It includes data augmentation, model training, and video detection in one educational workflow.\n",
    "\n",
    "## Overview\n",
    "- **Purpose**: Detect and track Pedri in a Barcelona game video.\n",
    "- **Tools**: YOLOv8 (Ultralytics), Albumentations, OpenCV.\n",
    "- **Status**: Functional, with room for refinement.\n",
    "\n",
    "## Requirements\n",
    "- GPU-enabled environment (e.g., Kaggle T4).\n",
    "- Adjust paths for non-Kaggle use."
   ]
  },
  {
   "cell_type": "markdown",
   "metadata": {},
   "source": [
    "## 1. Data Augmentation\n",
    "\n",
    "Augments the training dataset."
   ]
  },
  {
   "cell_type": "code",
   "execution_count": 1,
   "metadata": {},
   "outputs": [],
   "source": [
    "import albumentations as A\n",
    "import cv2\n",
    "import os\n",
    "\n",
    "# Define transformation pipeline\n",
    "transform = A.Compose([\n",
    "    A.HorizontalFlip(p=0.5),\n",
    "    A.Rotate(limit=30, p=0.5),\n",
    "    A.RandomBrightnessContrast(p=0.3),\n",
    "    A.Blur(blur_limit=3, p=0.2),\n",
    "], bbox_params=A.BboxParams(format='yolo', label_fields=['class_labels']))\n",
    "\n",
    "# Input directories (read-only)\n",
    "input_img_dir = \"/kaggle/input/pedri-dataset/images/train\"\n",
    "input_label_dir = \"/kaggle/input/pedri-dataset/labels/train\"\n",
    "\n",
    "# Output directories (writable)\n",
    "output_img_dir = \"/kaggle/working/pedri-dataset/images/train\"\n",
    "output_label_dir = \"/kaggle/working/pedri-dataset/labels/train\"\n",
    "\n",
    "# Create output directories\n",
    "os.makedirs(output_img_dir, exist_ok=True)\n",
    "os.makedirs(output_label_dir, exist_ok=True)\n",
    "\n",
    "# Process each image\n",
    "for img_file in os.listdir(input_img_dir):\n",
    "    if not img_file.endswith('.jpg'):\n",
    "        continue\n",
    "    \n",
    "    img_path = os.path.join(input_img_dir, img_file)\n",
    "    label_path = os.path.join(input_label_dir, img_file.replace('.jpg', '.txt'))\n",
    "    \n",
    "    image = cv2.imread(img_path)\n",
    "    if image is None:\n",
    "        print(f\"Failed to load image: {img_path}\")\n",
    "        continue\n",
    "    \n",
    "    bboxes = []\n",
    "    classes = []\n",
    "    if os.path.exists(label_path):\n",
    "        with open(label_path, \"r\") as f:\n",
    "            for line in f:\n",
    "                label, x, y, w, h = map(float, line.split())\n",
    "                bboxes.append([x, y, w, h])\n",
    "                classes.append(int(label))\n",
    "    else:\n",
    "        print(f\"Label file not found: {label_path}\")\n",
    "        continue\n",
    "\n",
    "    augmented = transform(image=image, bboxes=bboxes, class_labels=classes)\n",
    "    \n",
    "    aug_img_path = os.path.join(output_img_dir, f\"aug_{img_file}\")\n",
    "    aug_label_path = os.path.join(output_label_dir, f\"aug_{img_file.replace('.jpg', '.txt')}\")\n",
    "    \n",
    "    cv2.imwrite(aug_img_path, augmented['image'])\n",
    "    with open(aug_label_path, \"w\") as f:\n",
    "        for cls, bbox in zip(augmented['class_labels'], augmented['bboxes']):\n",
    "            f.write(f\"{cls} {bbox[0]:.6f} {bbox[1]:.6f} {bbox[2]:.6f} {bbox[3]:.6f}\\n\")\n",
    "    \n",
    "    print(f\"Augmented and saved: {aug_img_path}\")"
   ]
  },
  {
   "cell_type": "markdown",
   "metadata": {},
   "source": [
    "## 2. Setup YOLOv8\n",
    "\n",
    "Installs YOLOv8 via Ultralytics package."
   ]
  },
  {
   "cell_type": "code",
   "execution_count": 2,
   "metadata": {},
   "outputs": [],
   "source": [
    "!pip install ultralytics\n",
    "from ultralytics import YOLO"
   ]
  },
  {
   "cell_type": "markdown",
   "metadata": {},
   "source": [
    "## 3. Define Training Parameters\n",
    "\n",
    "Sets variables for training."
   ]
  },
  {
   "cell_type": "code",
   "execution_count": 3,
   "metadata": {},
   "outputs": [],
   "source": [
    "PROJECT_NAME = \"pedri_detection\"\n",
    "BASE_MODEL = \"yolov8l.pt\"  # Upgraded to YOLOv8 large model\n",
    "TRAIN_BATCH = 64\n",
    "TRAIN_EPOCHS = 100\n",
    "VAL_BATCH = 64"
   ]
  },
  {
   "cell_type": "markdown",
   "metadata": {},
   "source": [
    "## 4. Create Data Configuration\n",
    "\n",
    "Generates `data.yaml`."
   ]
  },
  {
   "cell_type": "code",
   "execution_count": 4,
   "metadata": {},
   "outputs": [],
   "source": [
    "import yaml\n",
    "\n",
    "train_path = \"/kaggle/input/pedri-dataset/images/train\"\n",
    "val_path = \"/kaggle/input/pedri-dataset/images/val\"\n",
    "test_path = \"/kaggle/input/pedri-dataset/images/test\"\n",
    "\n",
    "with open(\"data.yaml\", \"w\") as file:\n",
    "    yaml.dump({\n",
    "        \"train\": train_path,\n",
    "        \"val\": val_path,\n",
    "        \"test\": test_path,\n",
    "        \"nc\": 2,\n",
    "        \"names\": [\"Pedri\", \"Others\"]\n",
    "    }, stream=file, default_flow_style=None)"
   ]
  },
  {
   "cell_type": "markdown",
   "metadata": {},
   "source": [
    "## 5. Train the Model\n",
    "\n",
    "Trains YOLOv8 with frozen layers."
   ]
  },
  {
   "cell_type": "code",
   "execution_count": 5,
   "metadata": {},
   "outputs": [],
   "source": [
    "model = YOLO(BASE_MODEL)\n",
    "model.train(data=\"data.yaml\", epochs=TRAIN_EPOCHS, batch=TRAIN_BATCH, imgsz=640, project=PROJECT_NAME, name=\"feature_extraction\", freeze=12)"
   ]
  },
  {
   "cell_type": "markdown",
   "metadata": {},
   "source": [
    "## 6. Detect Pedri in Video\n",
    "\n",
    "Runs detection on `barca-video.mp4`."
   ]
  },
  {
   "cell_type": "code",
   "execution_count": 6,
   "metadata": {},
   "outputs": [],
   "source": [
    "model = YOLO(\"/kaggle/working/pedri_detection/feature_extraction/weights/best.pt\")\n",
    "results = model.predict(source=\"/kaggle/input/pedri-dataset/barca-video.mp4\", imgsz=640, conf=0.25, save=True, save_txt=True, save_conf=True, line_thickness=3, project=\"detect-runs\", name=\"pedri-detect\")"
   ]
  },
  {
   "cell_type": "markdown",
   "metadata": {},
   "source": [
    "## Notes\n",
    "- **Paths**: Kaggle-specific. For local use, update to your directories.\n",
    "- **Output**: Video saved to `detect-runs/pedri-detect/barca-video.mp4`.\n",
    "- **Improvements**: Consider YOLOv9/YOLOv10 for further gains (see README)."
   ]
  }
 ],
 "metadata": {
  "kernelspec": {
   "display_name": "Python 3",
   "language": "python",
   "name": "python3"
  },
  "language_info": {
   "codemirror_mode": {
    "name": "ipython",
    "version": 3
   },
   "file_extension": ".py",
   "mimetype": "text/x-python",
   "name": "python",
   "nbconvert_exporter": "python",
   "pygments_lexer": "ipython3",
   "version": "3.10.12"
  }
 },
 "nbformat": 4,
 "nbformat_minor": 4
}